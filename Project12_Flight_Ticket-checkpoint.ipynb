{
 "cells": [
  {
   "cell_type": "markdown",
   "metadata": {},
   "source": [
    "# Problem Definition"
   ]
  },
  {
   "cell_type": "markdown",
   "metadata": {},
   "source": [
    "In this project,we will use the machine learning models to predict the flight ticket price."
   ]
  },
  {
   "cell_type": "markdown",
   "metadata": {},
   "source": [
    "1. importing the data\n",
    "2. cleaning and preparing the data\n",
    "3. exploring and visualizing the data\n",
    "4. adding new features\n",
    "5. splitting dataset into train_set and test_set\n",
    "6. selecting error metric: mean absolute error vs mean squared error\n",
    "7. Using varous algorithms:\n",
    "\n",
    "    a. LinearRegression\n",
    "    b. Lasso\n",
    "    c. KNeighborsRegressor\n",
    "    d. AdaBoostRegressor\n",
    "    e. DecisionTreeRegressor\n",
    "8. Using GridSearchCV for best parameter\n",
    "9. Using r2score for best value\n",
    "10. Find the cross val score"
   ]
  },
  {
   "cell_type": "markdown",
   "metadata": {},
   "source": [
    "# Importing packages"
   ]
  },
  {
   "cell_type": "code",
   "execution_count": 3,
   "metadata": {},
   "outputs": [
    {
     "name": "stderr",
     "output_type": "stream",
     "text": [
      "C:\\ProgramData\\Anaconda3\\lib\\site-packages\\sklearn\\externals\\joblib\\__init__.py:15: DeprecationWarning: sklearn.externals.joblib is deprecated in 0.21 and will be removed in 0.23. Please import this functionality directly from joblib, which can be installed with: pip install joblib. If this warning is raised when loading pickled models, you may need to re-serialize those models with scikit-learn 0.21+.\n",
      "  warnings.warn(msg, category=DeprecationWarning)\n"
     ]
    }
   ],
   "source": [
    "import pandas as pd\n",
    "import numpy as np\n",
    "import matplotlib.pyplot as plt\n",
    "import seaborn as sns\n",
    "from sklearn.preprocessing import LabelEncoder,StandardScaler\n",
    "from sklearn.metrics import mean_squared_error,mean_absolute_error,r2_score,accuracy_score\n",
    "from sklearn.model_selection import train_test_split,cross_val_score\n",
    "from sklearn.linear_model import LinearRegression,Lasso\n",
    "from sklearn.model_selection import GridSearchCV\n",
    "from sklearn.neighbors import KNeighborsRegressor\n",
    "from sklearn.ensemble import AdaBoostRegressor,GradientBoostingRegressor\n",
    "from sklearn.tree import DecisionTreeRegressor\n",
    "from sklearn.externals import joblib\n",
    "import warnings\n",
    "warnings.filterwarnings('ignore')"
   ]
  },
  {
   "cell_type": "markdown",
   "metadata": {},
   "source": [
    "# Uploding Dataset"
   ]
  },
  {
   "cell_type": "markdown",
   "metadata": {},
   "source": [
    "Here we have two dataset of dataset(Test,trained)"
   ]
  },
  {
   "cell_type": "code",
   "execution_count": 11,
   "metadata": {},
   "outputs": [],
   "source": [
    "ds=pd.read_excel('flight_Data_Train.xlsx')\n",
    "ds_test=pd.read_excel('flight_Test_set.xlsx')"
   ]
  },
  {
   "cell_type": "markdown",
   "metadata": {},
   "source": [
    "# Exploratory Data Analysis"
   ]
  },
  {
   "cell_type": "markdown",
   "metadata": {},
   "source": [
    "Read Dataset"
   ]
  },
  {
   "cell_type": "code",
   "execution_count": 12,
   "metadata": {},
   "outputs": [
    {
     "data": {
      "text/html": [
       "<div>\n",
       "<style scoped>\n",
       "    .dataframe tbody tr th:only-of-type {\n",
       "        vertical-align: middle;\n",
       "    }\n",
       "\n",
       "    .dataframe tbody tr th {\n",
       "        vertical-align: top;\n",
       "    }\n",
       "\n",
       "    .dataframe thead th {\n",
       "        text-align: right;\n",
       "    }\n",
       "</style>\n",
       "<table border=\"1\" class=\"dataframe\">\n",
       "  <thead>\n",
       "    <tr style=\"text-align: right;\">\n",
       "      <th></th>\n",
       "      <th>Airline</th>\n",
       "      <th>Date_of_Journey</th>\n",
       "      <th>Source</th>\n",
       "      <th>Destination</th>\n",
       "      <th>Route</th>\n",
       "      <th>Dep_Time</th>\n",
       "      <th>Arrival_Time</th>\n",
       "      <th>Duration</th>\n",
       "      <th>Total_Stops</th>\n",
       "      <th>Additional_Info</th>\n",
       "      <th>Price</th>\n",
       "    </tr>\n",
       "  </thead>\n",
       "  <tbody>\n",
       "    <tr>\n",
       "      <td>0</td>\n",
       "      <td>IndiGo</td>\n",
       "      <td>24/03/2019</td>\n",
       "      <td>Banglore</td>\n",
       "      <td>New Delhi</td>\n",
       "      <td>BLR → DEL</td>\n",
       "      <td>22:20</td>\n",
       "      <td>01:10 22 Mar</td>\n",
       "      <td>2h 50m</td>\n",
       "      <td>non-stop</td>\n",
       "      <td>No info</td>\n",
       "      <td>3897</td>\n",
       "    </tr>\n",
       "    <tr>\n",
       "      <td>1</td>\n",
       "      <td>Air India</td>\n",
       "      <td>1/05/2019</td>\n",
       "      <td>Kolkata</td>\n",
       "      <td>Banglore</td>\n",
       "      <td>CCU → IXR → BBI → BLR</td>\n",
       "      <td>05:50</td>\n",
       "      <td>13:15</td>\n",
       "      <td>7h 25m</td>\n",
       "      <td>2 stops</td>\n",
       "      <td>No info</td>\n",
       "      <td>7662</td>\n",
       "    </tr>\n",
       "    <tr>\n",
       "      <td>2</td>\n",
       "      <td>Jet Airways</td>\n",
       "      <td>9/06/2019</td>\n",
       "      <td>Delhi</td>\n",
       "      <td>Cochin</td>\n",
       "      <td>DEL → LKO → BOM → COK</td>\n",
       "      <td>09:25</td>\n",
       "      <td>04:25 10 Jun</td>\n",
       "      <td>19h</td>\n",
       "      <td>2 stops</td>\n",
       "      <td>No info</td>\n",
       "      <td>13882</td>\n",
       "    </tr>\n",
       "    <tr>\n",
       "      <td>3</td>\n",
       "      <td>IndiGo</td>\n",
       "      <td>12/05/2019</td>\n",
       "      <td>Kolkata</td>\n",
       "      <td>Banglore</td>\n",
       "      <td>CCU → NAG → BLR</td>\n",
       "      <td>18:05</td>\n",
       "      <td>23:30</td>\n",
       "      <td>5h 25m</td>\n",
       "      <td>1 stop</td>\n",
       "      <td>No info</td>\n",
       "      <td>6218</td>\n",
       "    </tr>\n",
       "    <tr>\n",
       "      <td>4</td>\n",
       "      <td>IndiGo</td>\n",
       "      <td>01/03/2019</td>\n",
       "      <td>Banglore</td>\n",
       "      <td>New Delhi</td>\n",
       "      <td>BLR → NAG → DEL</td>\n",
       "      <td>16:50</td>\n",
       "      <td>21:35</td>\n",
       "      <td>4h 45m</td>\n",
       "      <td>1 stop</td>\n",
       "      <td>No info</td>\n",
       "      <td>13302</td>\n",
       "    </tr>\n",
       "  </tbody>\n",
       "</table>\n",
       "</div>"
      ],
      "text/plain": [
       "       Airline Date_of_Journey    Source Destination                  Route  \\\n",
       "0       IndiGo      24/03/2019  Banglore   New Delhi              BLR → DEL   \n",
       "1    Air India       1/05/2019   Kolkata    Banglore  CCU → IXR → BBI → BLR   \n",
       "2  Jet Airways       9/06/2019     Delhi      Cochin  DEL → LKO → BOM → COK   \n",
       "3       IndiGo      12/05/2019   Kolkata    Banglore        CCU → NAG → BLR   \n",
       "4       IndiGo      01/03/2019  Banglore   New Delhi        BLR → NAG → DEL   \n",
       "\n",
       "  Dep_Time  Arrival_Time Duration Total_Stops Additional_Info  Price  \n",
       "0    22:20  01:10 22 Mar   2h 50m    non-stop         No info   3897  \n",
       "1    05:50         13:15   7h 25m     2 stops         No info   7662  \n",
       "2    09:25  04:25 10 Jun      19h     2 stops         No info  13882  \n",
       "3    18:05         23:30   5h 25m      1 stop         No info   6218  \n",
       "4    16:50         21:35   4h 45m      1 stop         No info  13302  "
      ]
     },
     "execution_count": 12,
     "metadata": {},
     "output_type": "execute_result"
    }
   ],
   "source": [
    "#find the first five rows\n",
    "ds.head()"
   ]
  },
  {
   "cell_type": "code",
   "execution_count": 13,
   "metadata": {},
   "outputs": [
    {
     "data": {
      "text/html": [
       "<div>\n",
       "<style scoped>\n",
       "    .dataframe tbody tr th:only-of-type {\n",
       "        vertical-align: middle;\n",
       "    }\n",
       "\n",
       "    .dataframe tbody tr th {\n",
       "        vertical-align: top;\n",
       "    }\n",
       "\n",
       "    .dataframe thead th {\n",
       "        text-align: right;\n",
       "    }\n",
       "</style>\n",
       "<table border=\"1\" class=\"dataframe\">\n",
       "  <thead>\n",
       "    <tr style=\"text-align: right;\">\n",
       "      <th></th>\n",
       "      <th>Airline</th>\n",
       "      <th>Date_of_Journey</th>\n",
       "      <th>Source</th>\n",
       "      <th>Destination</th>\n",
       "      <th>Route</th>\n",
       "      <th>Dep_Time</th>\n",
       "      <th>Arrival_Time</th>\n",
       "      <th>Duration</th>\n",
       "      <th>Total_Stops</th>\n",
       "      <th>Additional_Info</th>\n",
       "    </tr>\n",
       "  </thead>\n",
       "  <tbody>\n",
       "    <tr>\n",
       "      <td>0</td>\n",
       "      <td>Jet Airways</td>\n",
       "      <td>6/06/2019</td>\n",
       "      <td>Delhi</td>\n",
       "      <td>Cochin</td>\n",
       "      <td>DEL → BOM → COK</td>\n",
       "      <td>17:30</td>\n",
       "      <td>04:25 07 Jun</td>\n",
       "      <td>10h 55m</td>\n",
       "      <td>1 stop</td>\n",
       "      <td>No info</td>\n",
       "    </tr>\n",
       "    <tr>\n",
       "      <td>1</td>\n",
       "      <td>IndiGo</td>\n",
       "      <td>12/05/2019</td>\n",
       "      <td>Kolkata</td>\n",
       "      <td>Banglore</td>\n",
       "      <td>CCU → MAA → BLR</td>\n",
       "      <td>06:20</td>\n",
       "      <td>10:20</td>\n",
       "      <td>4h</td>\n",
       "      <td>1 stop</td>\n",
       "      <td>No info</td>\n",
       "    </tr>\n",
       "    <tr>\n",
       "      <td>2</td>\n",
       "      <td>Jet Airways</td>\n",
       "      <td>21/05/2019</td>\n",
       "      <td>Delhi</td>\n",
       "      <td>Cochin</td>\n",
       "      <td>DEL → BOM → COK</td>\n",
       "      <td>19:15</td>\n",
       "      <td>19:00 22 May</td>\n",
       "      <td>23h 45m</td>\n",
       "      <td>1 stop</td>\n",
       "      <td>In-flight meal not included</td>\n",
       "    </tr>\n",
       "    <tr>\n",
       "      <td>3</td>\n",
       "      <td>Multiple carriers</td>\n",
       "      <td>21/05/2019</td>\n",
       "      <td>Delhi</td>\n",
       "      <td>Cochin</td>\n",
       "      <td>DEL → BOM → COK</td>\n",
       "      <td>08:00</td>\n",
       "      <td>21:00</td>\n",
       "      <td>13h</td>\n",
       "      <td>1 stop</td>\n",
       "      <td>No info</td>\n",
       "    </tr>\n",
       "    <tr>\n",
       "      <td>4</td>\n",
       "      <td>Air Asia</td>\n",
       "      <td>24/06/2019</td>\n",
       "      <td>Banglore</td>\n",
       "      <td>Delhi</td>\n",
       "      <td>BLR → DEL</td>\n",
       "      <td>23:55</td>\n",
       "      <td>02:45 25 Jun</td>\n",
       "      <td>2h 50m</td>\n",
       "      <td>non-stop</td>\n",
       "      <td>No info</td>\n",
       "    </tr>\n",
       "  </tbody>\n",
       "</table>\n",
       "</div>"
      ],
      "text/plain": [
       "             Airline Date_of_Journey    Source Destination            Route  \\\n",
       "0        Jet Airways       6/06/2019     Delhi      Cochin  DEL → BOM → COK   \n",
       "1             IndiGo      12/05/2019   Kolkata    Banglore  CCU → MAA → BLR   \n",
       "2        Jet Airways      21/05/2019     Delhi      Cochin  DEL → BOM → COK   \n",
       "3  Multiple carriers      21/05/2019     Delhi      Cochin  DEL → BOM → COK   \n",
       "4           Air Asia      24/06/2019  Banglore       Delhi        BLR → DEL   \n",
       "\n",
       "  Dep_Time  Arrival_Time Duration Total_Stops              Additional_Info  \n",
       "0    17:30  04:25 07 Jun  10h 55m      1 stop                      No info  \n",
       "1    06:20         10:20       4h      1 stop                      No info  \n",
       "2    19:15  19:00 22 May  23h 45m      1 stop  In-flight meal not included  \n",
       "3    08:00         21:00      13h      1 stop                      No info  \n",
       "4    23:55  02:45 25 Jun   2h 50m    non-stop                      No info  "
      ]
     },
     "execution_count": 13,
     "metadata": {},
     "output_type": "execute_result"
    }
   ],
   "source": [
    "#find the last five rows\n",
    "ds_test.head()"
   ]
  },
  {
   "cell_type": "code",
   "execution_count": 14,
   "metadata": {},
   "outputs": [
    {
     "name": "stdout",
     "output_type": "stream",
     "text": [
      "Print shape of ds Datasets : (10683, 11)\n",
      "Print shape of ds_new Datasets : (2671, 10)\n"
     ]
    }
   ],
   "source": [
    "#printing the shape of dataframes\n",
    "print('Print shape of ds Datasets :',ds.shape)\n",
    "print('Print shape of ds_new Datasets :',ds_test.shape)"
   ]
  },
  {
   "cell_type": "code",
   "execution_count": 15,
   "metadata": {},
   "outputs": [
    {
     "name": "stdout",
     "output_type": "stream",
     "text": [
      "Print Datatypes ds: \n",
      " Airline            object\n",
      "Date_of_Journey    object\n",
      "Source             object\n",
      "Destination        object\n",
      "Route              object\n",
      "Dep_Time           object\n",
      "Arrival_Time       object\n",
      "Duration           object\n",
      "Total_Stops        object\n",
      "Additional_Info    object\n",
      "Price               int64\n",
      "dtype: object\n",
      "\n",
      "\n",
      "Print Datatypes ds_new: \n",
      " Airline            object\n",
      "Date_of_Journey    object\n",
      "Source             object\n",
      "Destination        object\n",
      "Route              object\n",
      "Dep_Time           object\n",
      "Arrival_Time       object\n",
      "Duration           object\n",
      "Total_Stops        object\n",
      "Additional_Info    object\n",
      "dtype: object\n"
     ]
    }
   ],
   "source": [
    "#get columns datatypes of test and train data\n",
    "print('Print Datatypes ds:','\\n',ds.dtypes)\n",
    "print('\\n')\n",
    "print('Print Datatypes ds_new:','\\n',ds_test.dtypes)"
   ]
  },
  {
   "cell_type": "code",
   "execution_count": 17,
   "metadata": {},
   "outputs": [
    {
     "name": "stdout",
     "output_type": "stream",
     "text": [
      "<bound method DataFrame.info of            Airline Date_of_Journey    Source Destination  \\\n",
      "0           IndiGo      24/03/2019  Banglore   New Delhi   \n",
      "1        Air India       1/05/2019   Kolkata    Banglore   \n",
      "2      Jet Airways       9/06/2019     Delhi      Cochin   \n",
      "3           IndiGo      12/05/2019   Kolkata    Banglore   \n",
      "4           IndiGo      01/03/2019  Banglore   New Delhi   \n",
      "...            ...             ...       ...         ...   \n",
      "10678     Air Asia       9/04/2019   Kolkata    Banglore   \n",
      "10679    Air India      27/04/2019   Kolkata    Banglore   \n",
      "10680  Jet Airways      27/04/2019  Banglore       Delhi   \n",
      "10681      Vistara      01/03/2019  Banglore   New Delhi   \n",
      "10682    Air India       9/05/2019     Delhi      Cochin   \n",
      "\n",
      "                       Route Dep_Time  Arrival_Time Duration Total_Stops  \\\n",
      "0                  BLR → DEL    22:20  01:10 22 Mar   2h 50m    non-stop   \n",
      "1      CCU → IXR → BBI → BLR    05:50         13:15   7h 25m     2 stops   \n",
      "2      DEL → LKO → BOM → COK    09:25  04:25 10 Jun      19h     2 stops   \n",
      "3            CCU → NAG → BLR    18:05         23:30   5h 25m      1 stop   \n",
      "4            BLR → NAG → DEL    16:50         21:35   4h 45m      1 stop   \n",
      "...                      ...      ...           ...      ...         ...   \n",
      "10678              CCU → BLR    19:55         22:25   2h 30m    non-stop   \n",
      "10679              CCU → BLR    20:45         23:20   2h 35m    non-stop   \n",
      "10680              BLR → DEL    08:20         11:20       3h    non-stop   \n",
      "10681              BLR → DEL    11:30         14:10   2h 40m    non-stop   \n",
      "10682  DEL → GOI → BOM → COK    10:55         19:15   8h 20m     2 stops   \n",
      "\n",
      "      Additional_Info  Price  \n",
      "0             No info   3897  \n",
      "1             No info   7662  \n",
      "2             No info  13882  \n",
      "3             No info   6218  \n",
      "4             No info  13302  \n",
      "...               ...    ...  \n",
      "10678         No info   4107  \n",
      "10679         No info   4145  \n",
      "10680         No info   7229  \n",
      "10681         No info  12648  \n",
      "10682         No info  11753  \n",
      "\n",
      "[10683 rows x 11 columns]>\n",
      "\n",
      "\n",
      "<bound method DataFrame.info of                 Airline Date_of_Journey    Source Destination  \\\n",
      "0           Jet Airways       6/06/2019     Delhi      Cochin   \n",
      "1                IndiGo      12/05/2019   Kolkata    Banglore   \n",
      "2           Jet Airways      21/05/2019     Delhi      Cochin   \n",
      "3     Multiple carriers      21/05/2019     Delhi      Cochin   \n",
      "4              Air Asia      24/06/2019  Banglore       Delhi   \n",
      "...                 ...             ...       ...         ...   \n",
      "2666          Air India       6/06/2019   Kolkata    Banglore   \n",
      "2667             IndiGo      27/03/2019   Kolkata    Banglore   \n",
      "2668        Jet Airways       6/03/2019     Delhi      Cochin   \n",
      "2669          Air India       6/03/2019     Delhi      Cochin   \n",
      "2670  Multiple carriers      15/06/2019     Delhi      Cochin   \n",
      "\n",
      "                Route Dep_Time  Arrival_Time Duration Total_Stops  \\\n",
      "0     DEL → BOM → COK    17:30  04:25 07 Jun  10h 55m      1 stop   \n",
      "1     CCU → MAA → BLR    06:20         10:20       4h      1 stop   \n",
      "2     DEL → BOM → COK    19:15  19:00 22 May  23h 45m      1 stop   \n",
      "3     DEL → BOM → COK    08:00         21:00      13h      1 stop   \n",
      "4           BLR → DEL    23:55  02:45 25 Jun   2h 50m    non-stop   \n",
      "...               ...      ...           ...      ...         ...   \n",
      "2666  CCU → DEL → BLR    20:30  20:25 07 Jun  23h 55m      1 stop   \n",
      "2667        CCU → BLR    14:20         16:55   2h 35m    non-stop   \n",
      "2668  DEL → BOM → COK    21:50  04:25 07 Mar   6h 35m      1 stop   \n",
      "2669  DEL → BOM → COK    04:00         19:15  15h 15m      1 stop   \n",
      "2670  DEL → BOM → COK    04:55         19:15  14h 20m      1 stop   \n",
      "\n",
      "                  Additional_Info  \n",
      "0                         No info  \n",
      "1                         No info  \n",
      "2     In-flight meal not included  \n",
      "3                         No info  \n",
      "4                         No info  \n",
      "...                           ...  \n",
      "2666                      No info  \n",
      "2667                      No info  \n",
      "2668                      No info  \n",
      "2669                      No info  \n",
      "2670                      No info  \n",
      "\n",
      "[2671 rows x 10 columns]>\n"
     ]
    }
   ],
   "source": [
    "#get the complete details of columns data\n",
    "print(ds.info)\n",
    "print('\\n')\n",
    "print(ds_test.info)"
   ]
  },
  {
   "cell_type": "code",
   "execution_count": 10,
   "metadata": {},
   "outputs": [
    {
     "data": {
      "text/html": [
       "<div>\n",
       "<style scoped>\n",
       "    .dataframe tbody tr th:only-of-type {\n",
       "        vertical-align: middle;\n",
       "    }\n",
       "\n",
       "    .dataframe tbody tr th {\n",
       "        vertical-align: top;\n",
       "    }\n",
       "\n",
       "    .dataframe thead th {\n",
       "        text-align: right;\n",
       "    }\n",
       "</style>\n",
       "<table border=\"1\" class=\"dataframe\">\n",
       "  <thead>\n",
       "    <tr style=\"text-align: right;\">\n",
       "      <th></th>\n",
       "      <th>Airline</th>\n",
       "      <th>Date_of_Journey</th>\n",
       "      <th>Source</th>\n",
       "      <th>Destination</th>\n",
       "      <th>Route</th>\n",
       "      <th>Dep_Time</th>\n",
       "      <th>Arrival_Time</th>\n",
       "      <th>Duration</th>\n",
       "      <th>Total_Stops</th>\n",
       "      <th>Additional_Info</th>\n",
       "      <th>Price</th>\n",
       "    </tr>\n",
       "  </thead>\n",
       "  <tbody>\n",
       "    <tr>\n",
       "      <td>0</td>\n",
       "      <td>False</td>\n",
       "      <td>False</td>\n",
       "      <td>False</td>\n",
       "      <td>False</td>\n",
       "      <td>False</td>\n",
       "      <td>False</td>\n",
       "      <td>False</td>\n",
       "      <td>False</td>\n",
       "      <td>False</td>\n",
       "      <td>False</td>\n",
       "      <td>False</td>\n",
       "    </tr>\n",
       "    <tr>\n",
       "      <td>1</td>\n",
       "      <td>False</td>\n",
       "      <td>False</td>\n",
       "      <td>False</td>\n",
       "      <td>False</td>\n",
       "      <td>False</td>\n",
       "      <td>False</td>\n",
       "      <td>False</td>\n",
       "      <td>False</td>\n",
       "      <td>False</td>\n",
       "      <td>False</td>\n",
       "      <td>False</td>\n",
       "    </tr>\n",
       "    <tr>\n",
       "      <td>2</td>\n",
       "      <td>False</td>\n",
       "      <td>False</td>\n",
       "      <td>False</td>\n",
       "      <td>False</td>\n",
       "      <td>False</td>\n",
       "      <td>False</td>\n",
       "      <td>False</td>\n",
       "      <td>False</td>\n",
       "      <td>False</td>\n",
       "      <td>False</td>\n",
       "      <td>False</td>\n",
       "    </tr>\n",
       "    <tr>\n",
       "      <td>3</td>\n",
       "      <td>False</td>\n",
       "      <td>False</td>\n",
       "      <td>False</td>\n",
       "      <td>False</td>\n",
       "      <td>False</td>\n",
       "      <td>False</td>\n",
       "      <td>False</td>\n",
       "      <td>False</td>\n",
       "      <td>False</td>\n",
       "      <td>False</td>\n",
       "      <td>False</td>\n",
       "    </tr>\n",
       "    <tr>\n",
       "      <td>4</td>\n",
       "      <td>False</td>\n",
       "      <td>False</td>\n",
       "      <td>False</td>\n",
       "      <td>False</td>\n",
       "      <td>False</td>\n",
       "      <td>False</td>\n",
       "      <td>False</td>\n",
       "      <td>False</td>\n",
       "      <td>False</td>\n",
       "      <td>False</td>\n",
       "      <td>False</td>\n",
       "    </tr>\n",
       "    <tr>\n",
       "      <td>...</td>\n",
       "      <td>...</td>\n",
       "      <td>...</td>\n",
       "      <td>...</td>\n",
       "      <td>...</td>\n",
       "      <td>...</td>\n",
       "      <td>...</td>\n",
       "      <td>...</td>\n",
       "      <td>...</td>\n",
       "      <td>...</td>\n",
       "      <td>...</td>\n",
       "      <td>...</td>\n",
       "    </tr>\n",
       "    <tr>\n",
       "      <td>10678</td>\n",
       "      <td>False</td>\n",
       "      <td>False</td>\n",
       "      <td>False</td>\n",
       "      <td>False</td>\n",
       "      <td>False</td>\n",
       "      <td>False</td>\n",
       "      <td>False</td>\n",
       "      <td>False</td>\n",
       "      <td>False</td>\n",
       "      <td>False</td>\n",
       "      <td>False</td>\n",
       "    </tr>\n",
       "    <tr>\n",
       "      <td>10679</td>\n",
       "      <td>False</td>\n",
       "      <td>False</td>\n",
       "      <td>False</td>\n",
       "      <td>False</td>\n",
       "      <td>False</td>\n",
       "      <td>False</td>\n",
       "      <td>False</td>\n",
       "      <td>False</td>\n",
       "      <td>False</td>\n",
       "      <td>False</td>\n",
       "      <td>False</td>\n",
       "    </tr>\n",
       "    <tr>\n",
       "      <td>10680</td>\n",
       "      <td>False</td>\n",
       "      <td>False</td>\n",
       "      <td>False</td>\n",
       "      <td>False</td>\n",
       "      <td>False</td>\n",
       "      <td>False</td>\n",
       "      <td>False</td>\n",
       "      <td>False</td>\n",
       "      <td>False</td>\n",
       "      <td>False</td>\n",
       "      <td>False</td>\n",
       "    </tr>\n",
       "    <tr>\n",
       "      <td>10681</td>\n",
       "      <td>False</td>\n",
       "      <td>False</td>\n",
       "      <td>False</td>\n",
       "      <td>False</td>\n",
       "      <td>False</td>\n",
       "      <td>False</td>\n",
       "      <td>False</td>\n",
       "      <td>False</td>\n",
       "      <td>False</td>\n",
       "      <td>False</td>\n",
       "      <td>False</td>\n",
       "    </tr>\n",
       "    <tr>\n",
       "      <td>10682</td>\n",
       "      <td>False</td>\n",
       "      <td>False</td>\n",
       "      <td>False</td>\n",
       "      <td>False</td>\n",
       "      <td>False</td>\n",
       "      <td>False</td>\n",
       "      <td>False</td>\n",
       "      <td>False</td>\n",
       "      <td>False</td>\n",
       "      <td>False</td>\n",
       "      <td>False</td>\n",
       "    </tr>\n",
       "  </tbody>\n",
       "</table>\n",
       "<p>10683 rows × 11 columns</p>\n",
       "</div>"
      ],
      "text/plain": [
       "       Airline  Date_of_Journey  Source  Destination  Route  Dep_Time  \\\n",
       "0        False            False   False        False  False     False   \n",
       "1        False            False   False        False  False     False   \n",
       "2        False            False   False        False  False     False   \n",
       "3        False            False   False        False  False     False   \n",
       "4        False            False   False        False  False     False   \n",
       "...        ...              ...     ...          ...    ...       ...   \n",
       "10678    False            False   False        False  False     False   \n",
       "10679    False            False   False        False  False     False   \n",
       "10680    False            False   False        False  False     False   \n",
       "10681    False            False   False        False  False     False   \n",
       "10682    False            False   False        False  False     False   \n",
       "\n",
       "       Arrival_Time  Duration  Total_Stops  Additional_Info  Price  \n",
       "0             False     False        False            False  False  \n",
       "1             False     False        False            False  False  \n",
       "2             False     False        False            False  False  \n",
       "3             False     False        False            False  False  \n",
       "4             False     False        False            False  False  \n",
       "...             ...       ...          ...              ...    ...  \n",
       "10678         False     False        False            False  False  \n",
       "10679         False     False        False            False  False  \n",
       "10680         False     False        False            False  False  \n",
       "10681         False     False        False            False  False  \n",
       "10682         False     False        False            False  False  \n",
       "\n",
       "[10683 rows x 11 columns]"
      ]
     },
     "execution_count": 10,
     "metadata": {},
     "output_type": "execute_result"
    }
   ],
   "source": [
    "#checking null value\n",
    "ds.isnull()"
   ]
  },
  {
   "cell_type": "code",
   "execution_count": 9,
   "metadata": {},
   "outputs": [
    {
     "name": "stdout",
     "output_type": "stream",
     "text": [
      "Print NaN ds: \n",
      " Airline            0\n",
      "Date_of_Journey    0\n",
      "Source             0\n",
      "Destination        0\n",
      "Route              1\n",
      "Dep_Time           0\n",
      "Arrival_Time       0\n",
      "Duration           0\n",
      "Total_Stops        1\n",
      "Additional_Info    0\n",
      "Price              0\n",
      "dtype: int64\n",
      "\n",
      "\n",
      "Print NaN ds_new: \n",
      " Airline            0\n",
      "Date_of_Journey    0\n",
      "Source             0\n",
      "Destination        0\n",
      "Route              0\n",
      "Dep_Time           0\n",
      "Arrival_Time       0\n",
      "Duration           0\n",
      "Total_Stops        0\n",
      "Additional_Info    0\n",
      "dtype: int64\n"
     ]
    }
   ],
   "source": [
    "#sum of null \n",
    "print('Print NaN ds:','\\n',ds.isnull().sum())\n",
    "print('\\n')\n",
    "print('Print NaN ds_new:','\\n',ds_test.isnull().sum())"
   ]
  },
  {
   "cell_type": "code",
   "execution_count": 11,
   "metadata": {},
   "outputs": [
    {
     "data": {
      "text/plain": [
       "<matplotlib.axes._subplots.AxesSubplot at 0x26cfbe6dcc8>"
      ]
     },
     "execution_count": 11,
     "metadata": {},
     "output_type": "execute_result"
    },
    {
     "data": {
      "image/png": "[encoded data removed]",
      "text/plain": [
       "<Figure size 432x288 with 2 Axes>"
      ]
     },
     "metadata": {
      "needs_background": "light"
     },
     "output_type": "display_data"
    }
   ],
   "source": [
    "#Checking null value in heatmap plot\n",
    "sns.heatmap(ds.isnull(),cmap=\"YlGnBu\")"
   ]
  },
  {
   "cell_type": "code",
   "execution_count": 12,
   "metadata": {},
   "outputs": [],
   "source": [
    "ds.dropna(inplace=True)"
   ]
  },
  {
   "cell_type": "markdown",
   "metadata": {},
   "source": [
    "dropping the row which is contain th nall values "
   ]
  },
  {
   "cell_type": "code",
   "execution_count": 13,
   "metadata": {},
   "outputs": [
    {
     "name": "stdout",
     "output_type": "stream",
     "text": [
      "Print NaN ds: \n",
      " Airline            0\n",
      "Date_of_Journey    0\n",
      "Source             0\n",
      "Destination        0\n",
      "Route              0\n",
      "Dep_Time           0\n",
      "Arrival_Time       0\n",
      "Duration           0\n",
      "Total_Stops        0\n",
      "Additional_Info    0\n",
      "Price              0\n",
      "dtype: int64\n"
     ]
    }
   ],
   "source": [
    "print('Print NaN ds:','\\n',ds.isnull().sum())"
   ]
  },
  {
   "cell_type": "code",
   "execution_count": 14,
   "metadata": {},
   "outputs": [],
   "source": [
    "#selecting the days and month from Dataframe same action with test data as well\n",
    "#train dataframe\n",
    "ds['Journey_Day'] = pd.to_datetime(ds['Date_of_Journey'], format='%d/%m/%Y').dt.day\n",
    "ds['Journey_Month'] = pd.to_datetime(ds['Date_of_Journey'], format='%d/%m/%Y').dt.month\n",
    "\n",
    "#test dataframe\n",
    "ds_test['Journey_Day'] = pd.to_datetime(ds['Date_of_Journey'], format='%d/%m/%Y').dt.day\n",
    "ds_test['Journey_Month'] = pd.to_datetime(ds['Date_of_Journey'], format='%d/%m/%Y').dt.month\n"
   ]
  },
  {
   "cell_type": "code",
   "execution_count": 15,
   "metadata": {},
   "outputs": [],
   "source": [
    "#droping teh Date_of_Journey from both dataframe\n",
    "ds.drop(['Date_of_Journey'],axis=1,inplace=True)\n",
    "ds_test.drop(['Date_of_Journey'],axis=1,inplace=True)"
   ]
  },
  {
   "cell_type": "code",
   "execution_count": 16,
   "metadata": {},
   "outputs": [],
   "source": [
    "# Cleaning Duration\n",
    "#here we are spliting the time minutes and hours as int value\n",
    "# Training Set\n",
    "\n",
    "dur = list(ds['Duration'])\n",
    "\n",
    "for i in range(len(dur)) :\n",
    "    if len(dur[i].split()) != 2:\n",
    "        if 'h' in dur[i] :\n",
    "            dur[i] = dur[i].strip() + ' 0m'\n",
    "        elif 'm' in dur[i] :\n",
    "            dur[i] = '0h {}'.format(dur[i].strip())\n",
    "\n",
    "dur_hr = []\n",
    "dur_mn = []  \n",
    "\n",
    "for i in range(len(dur)) :\n",
    "    dur_hr.append(int(dur[i].split()[0][:-1]))\n",
    "    dur_mn.append(int(dur[i].split()[1][:-1]))\n",
    "    \n",
    "ds['Duration_hours'] = dur_hr\n",
    "ds['Duration_minutes'] =dur_mn\n",
    "\n",
    "#training_set.drop(labels = 'Duration', axis = 1, inplace = True)"
   ]
  },
  {
   "cell_type": "code",
   "execution_count": 17,
   "metadata": {},
   "outputs": [],
   "source": [
    "# Cleaning Duration\n",
    "#same action as like above in test data also\n",
    "# Training Set\n",
    "\n",
    "dur = list(ds_test['Duration'])\n",
    "\n",
    "for i in range(len(dur)) :\n",
    "    if len(dur[i].split()) != 2:\n",
    "        if 'h' in dur[i] :\n",
    "            dur[i] = dur[i].strip() + ' 0m'\n",
    "        elif 'm' in dur[i] :\n",
    "            dur[i] = '0h {}'.format(dur[i].strip())\n",
    "\n",
    "dur_hr = []\n",
    "dur_mn = []  \n",
    "\n",
    "for i in range(len(dur)) :\n",
    "    dur_hr.append(int(dur[i].split()[0][:-1]))\n",
    "    dur_mn.append(int(dur[i].split()[1][:-1]))\n",
    "    \n",
    "ds_test['Duration_hours'] = dur_hr\n",
    "ds_test['Duration_minutes'] =dur_mn\n"
   ]
  },
  {
   "cell_type": "code",
   "execution_count": 18,
   "metadata": {},
   "outputs": [],
   "source": [
    "#Droping the Duration labels\n",
    "ds.drop(labels = 'Duration', axis = 1, inplace = True)\n",
    "ds_test.drop(labels = 'Duration', axis = 1, inplace = True)"
   ]
  },
  {
   "cell_type": "code",
   "execution_count": 19,
   "metadata": {},
   "outputs": [],
   "source": [
    "#Departure \n",
    "#Departure time splitting the time minutes and hours as int value\n",
    "ds['Dep_Time_hr']=pd.to_datetime(ds.Dep_Time).dt.hour\n",
    "ds['Dep_Time_mn']=pd.to_datetime(ds.Dep_Time).dt.minute\n",
    "\n",
    "#Arival\n",
    "#Arrival time splitting the time minutes and hours as int value\n",
    "ds['Arrival_Time_hr']=pd.to_datetime(ds.Arrival_Time).dt.hour\n",
    "ds['Arrival_Time_mn']=pd.to_datetime(ds.Arrival_Time).dt.minute"
   ]
  },
  {
   "cell_type": "code",
   "execution_count": 20,
   "metadata": {},
   "outputs": [],
   "source": [
    "#same action as like above in test data also\n",
    "#Departure \n",
    "ds_test['Dep_Time_hr']=pd.to_datetime(ds_test.Dep_Time).dt.hour\n",
    "ds_test['Dep_Time_mn']=pd.to_datetime(ds_test.Dep_Time).dt.minute\n",
    "\n",
    "#Arival\n",
    "ds_test['Arrival_Time_hr']=pd.to_datetime(ds_test.Arrival_Time).dt.hour\n",
    "ds_test['Arrival_Time_mn']=pd.to_datetime(ds_test.Arrival_Time).dt.minute"
   ]
  },
  {
   "cell_type": "code",
   "execution_count": 21,
   "metadata": {},
   "outputs": [],
   "source": [
    "#Dropping the unnecessary columns from test and train data frame\n",
    "ds.drop(['Dep_Time','Arrival_Time'],axis=1,inplace=True)\n",
    "ds_test.drop(['Dep_Time','Arrival_Time'],axis=1,inplace=True)"
   ]
  },
  {
   "cell_type": "code",
   "execution_count": 22,
   "metadata": {},
   "outputs": [
    {
     "data": {
      "text/html": [
       "<div>\n",
       "<style scoped>\n",
       "    .dataframe tbody tr th:only-of-type {\n",
       "        vertical-align: middle;\n",
       "    }\n",
       "\n",
       "    .dataframe tbody tr th {\n",
       "        vertical-align: top;\n",
       "    }\n",
       "\n",
       "    .dataframe thead th {\n",
       "        text-align: right;\n",
       "    }\n",
       "</style>\n",
       "<table border=\"1\" class=\"dataframe\">\n",
       "  <thead>\n",
       "    <tr style=\"text-align: right;\">\n",
       "      <th></th>\n",
       "      <th>Airline</th>\n",
       "      <th>Source</th>\n",
       "      <th>Destination</th>\n",
       "      <th>Route</th>\n",
       "      <th>Total_Stops</th>\n",
       "      <th>Additional_Info</th>\n",
       "      <th>Journey_Day</th>\n",
       "      <th>Journey_Month</th>\n",
       "      <th>Duration_hours</th>\n",
       "      <th>Duration_minutes</th>\n",
       "      <th>Dep_Time_hr</th>\n",
       "      <th>Dep_Time_mn</th>\n",
       "      <th>Arrival_Time_hr</th>\n",
       "      <th>Arrival_Time_mn</th>\n",
       "    </tr>\n",
       "  </thead>\n",
       "  <tbody>\n",
       "    <tr>\n",
       "      <td>0</td>\n",
       "      <td>Jet Airways</td>\n",
       "      <td>Delhi</td>\n",
       "      <td>Cochin</td>\n",
       "      <td>DEL → BOM → COK</td>\n",
       "      <td>1 stop</td>\n",
       "      <td>No info</td>\n",
       "      <td>24</td>\n",
       "      <td>3</td>\n",
       "      <td>10</td>\n",
       "      <td>55</td>\n",
       "      <td>17</td>\n",
       "      <td>30</td>\n",
       "      <td>4</td>\n",
       "      <td>25</td>\n",
       "    </tr>\n",
       "    <tr>\n",
       "      <td>1</td>\n",
       "      <td>IndiGo</td>\n",
       "      <td>Kolkata</td>\n",
       "      <td>Banglore</td>\n",
       "      <td>CCU → MAA → BLR</td>\n",
       "      <td>1 stop</td>\n",
       "      <td>No info</td>\n",
       "      <td>1</td>\n",
       "      <td>5</td>\n",
       "      <td>4</td>\n",
       "      <td>0</td>\n",
       "      <td>6</td>\n",
       "      <td>20</td>\n",
       "      <td>10</td>\n",
       "      <td>20</td>\n",
       "    </tr>\n",
       "    <tr>\n",
       "      <td>2</td>\n",
       "      <td>Jet Airways</td>\n",
       "      <td>Delhi</td>\n",
       "      <td>Cochin</td>\n",
       "      <td>DEL → BOM → COK</td>\n",
       "      <td>1 stop</td>\n",
       "      <td>In-flight meal not included</td>\n",
       "      <td>9</td>\n",
       "      <td>6</td>\n",
       "      <td>23</td>\n",
       "      <td>45</td>\n",
       "      <td>19</td>\n",
       "      <td>15</td>\n",
       "      <td>19</td>\n",
       "      <td>0</td>\n",
       "    </tr>\n",
       "    <tr>\n",
       "      <td>3</td>\n",
       "      <td>Multiple carriers</td>\n",
       "      <td>Delhi</td>\n",
       "      <td>Cochin</td>\n",
       "      <td>DEL → BOM → COK</td>\n",
       "      <td>1 stop</td>\n",
       "      <td>No info</td>\n",
       "      <td>12</td>\n",
       "      <td>5</td>\n",
       "      <td>13</td>\n",
       "      <td>0</td>\n",
       "      <td>8</td>\n",
       "      <td>0</td>\n",
       "      <td>21</td>\n",
       "      <td>0</td>\n",
       "    </tr>\n",
       "    <tr>\n",
       "      <td>4</td>\n",
       "      <td>Air Asia</td>\n",
       "      <td>Banglore</td>\n",
       "      <td>Delhi</td>\n",
       "      <td>BLR → DEL</td>\n",
       "      <td>non-stop</td>\n",
       "      <td>No info</td>\n",
       "      <td>1</td>\n",
       "      <td>3</td>\n",
       "      <td>2</td>\n",
       "      <td>50</td>\n",
       "      <td>23</td>\n",
       "      <td>55</td>\n",
       "      <td>2</td>\n",
       "      <td>45</td>\n",
       "    </tr>\n",
       "  </tbody>\n",
       "</table>\n",
       "</div>"
      ],
      "text/plain": [
       "             Airline    Source Destination            Route Total_Stops  \\\n",
       "0        Jet Airways     Delhi      Cochin  DEL → BOM → COK      1 stop   \n",
       "1             IndiGo   Kolkata    Banglore  CCU → MAA → BLR      1 stop   \n",
       "2        Jet Airways     Delhi      Cochin  DEL → BOM → COK      1 stop   \n",
       "3  Multiple carriers     Delhi      Cochin  DEL → BOM → COK      1 stop   \n",
       "4           Air Asia  Banglore       Delhi        BLR → DEL    non-stop   \n",
       "\n",
       "               Additional_Info  Journey_Day  Journey_Month  Duration_hours  \\\n",
       "0                      No info           24              3              10   \n",
       "1                      No info            1              5               4   \n",
       "2  In-flight meal not included            9              6              23   \n",
       "3                      No info           12              5              13   \n",
       "4                      No info            1              3               2   \n",
       "\n",
       "   Duration_minutes  Dep_Time_hr  Dep_Time_mn  Arrival_Time_hr  \\\n",
       "0                55           17           30                4   \n",
       "1                 0            6           20               10   \n",
       "2                45           19           15               19   \n",
       "3                 0            8            0               21   \n",
       "4                50           23           55                2   \n",
       "\n",
       "   Arrival_Time_mn  \n",
       "0               25  \n",
       "1               20  \n",
       "2                0  \n",
       "3                0  \n",
       "4               45  "
      ]
     },
     "execution_count": 22,
     "metadata": {},
     "output_type": "execute_result"
    }
   ],
   "source": [
    "#view the test dataframe\n",
    "ds_test.head()"
   ]
  },
  {
   "cell_type": "code",
   "execution_count": 23,
   "metadata": {},
   "outputs": [
    {
     "data": {
      "text/html": [
       "<div>\n",
       "<style scoped>\n",
       "    .dataframe tbody tr th:only-of-type {\n",
       "        vertical-align: middle;\n",
       "    }\n",
       "\n",
       "    .dataframe tbody tr th {\n",
       "        vertical-align: top;\n",
       "    }\n",
       "\n",
       "    .dataframe thead th {\n",
       "        text-align: right;\n",
       "    }\n",
       "</style>\n",
       "<table border=\"1\" class=\"dataframe\">\n",
       "  <thead>\n",
       "    <tr style=\"text-align: right;\">\n",
       "      <th></th>\n",
       "      <th>Airline</th>\n",
       "      <th>Source</th>\n",
       "      <th>Destination</th>\n",
       "      <th>Route</th>\n",
       "      <th>Total_Stops</th>\n",
       "      <th>Additional_Info</th>\n",
       "      <th>Price</th>\n",
       "      <th>Journey_Day</th>\n",
       "      <th>Journey_Month</th>\n",
       "      <th>Duration_hours</th>\n",
       "      <th>Duration_minutes</th>\n",
       "      <th>Dep_Time_hr</th>\n",
       "      <th>Dep_Time_mn</th>\n",
       "      <th>Arrival_Time_hr</th>\n",
       "      <th>Arrival_Time_mn</th>\n",
       "    </tr>\n",
       "  </thead>\n",
       "  <tbody>\n",
       "    <tr>\n",
       "      <td>0</td>\n",
       "      <td>IndiGo</td>\n",
       "      <td>Banglore</td>\n",
       "      <td>New Delhi</td>\n",
       "      <td>BLR → DEL</td>\n",
       "      <td>non-stop</td>\n",
       "      <td>No info</td>\n",
       "      <td>3897</td>\n",
       "      <td>24</td>\n",
       "      <td>3</td>\n",
       "      <td>2</td>\n",
       "      <td>50</td>\n",
       "      <td>22</td>\n",
       "      <td>20</td>\n",
       "      <td>1</td>\n",
       "      <td>10</td>\n",
       "    </tr>\n",
       "    <tr>\n",
       "      <td>1</td>\n",
       "      <td>Air India</td>\n",
       "      <td>Kolkata</td>\n",
       "      <td>Banglore</td>\n",
       "      <td>CCU → IXR → BBI → BLR</td>\n",
       "      <td>2 stops</td>\n",
       "      <td>No info</td>\n",
       "      <td>7662</td>\n",
       "      <td>1</td>\n",
       "      <td>5</td>\n",
       "      <td>7</td>\n",
       "      <td>25</td>\n",
       "      <td>5</td>\n",
       "      <td>50</td>\n",
       "      <td>13</td>\n",
       "      <td>15</td>\n",
       "    </tr>\n",
       "    <tr>\n",
       "      <td>2</td>\n",
       "      <td>Jet Airways</td>\n",
       "      <td>Delhi</td>\n",
       "      <td>Cochin</td>\n",
       "      <td>DEL → LKO → BOM → COK</td>\n",
       "      <td>2 stops</td>\n",
       "      <td>No info</td>\n",
       "      <td>13882</td>\n",
       "      <td>9</td>\n",
       "      <td>6</td>\n",
       "      <td>19</td>\n",
       "      <td>0</td>\n",
       "      <td>9</td>\n",
       "      <td>25</td>\n",
       "      <td>4</td>\n",
       "      <td>25</td>\n",
       "    </tr>\n",
       "    <tr>\n",
       "      <td>3</td>\n",
       "      <td>IndiGo</td>\n",
       "      <td>Kolkata</td>\n",
       "      <td>Banglore</td>\n",
       "      <td>CCU → NAG → BLR</td>\n",
       "      <td>1 stop</td>\n",
       "      <td>No info</td>\n",
       "      <td>6218</td>\n",
       "      <td>12</td>\n",
       "      <td>5</td>\n",
       "      <td>5</td>\n",
       "      <td>25</td>\n",
       "      <td>18</td>\n",
       "      <td>5</td>\n",
       "      <td>23</td>\n",
       "      <td>30</td>\n",
       "    </tr>\n",
       "    <tr>\n",
       "      <td>4</td>\n",
       "      <td>IndiGo</td>\n",
       "      <td>Banglore</td>\n",
       "      <td>New Delhi</td>\n",
       "      <td>BLR → NAG → DEL</td>\n",
       "      <td>1 stop</td>\n",
       "      <td>No info</td>\n",
       "      <td>13302</td>\n",
       "      <td>1</td>\n",
       "      <td>3</td>\n",
       "      <td>4</td>\n",
       "      <td>45</td>\n",
       "      <td>16</td>\n",
       "      <td>50</td>\n",
       "      <td>21</td>\n",
       "      <td>35</td>\n",
       "    </tr>\n",
       "  </tbody>\n",
       "</table>\n",
       "</div>"
      ],
      "text/plain": [
       "       Airline    Source Destination                  Route Total_Stops  \\\n",
       "0       IndiGo  Banglore   New Delhi              BLR → DEL    non-stop   \n",
       "1    Air India   Kolkata    Banglore  CCU → IXR → BBI → BLR     2 stops   \n",
       "2  Jet Airways     Delhi      Cochin  DEL → LKO → BOM → COK     2 stops   \n",
       "3       IndiGo   Kolkata    Banglore        CCU → NAG → BLR      1 stop   \n",
       "4       IndiGo  Banglore   New Delhi        BLR → NAG → DEL      1 stop   \n",
       "\n",
       "  Additional_Info  Price  Journey_Day  Journey_Month  Duration_hours  \\\n",
       "0         No info   3897           24              3               2   \n",
       "1         No info   7662            1              5               7   \n",
       "2         No info  13882            9              6              19   \n",
       "3         No info   6218           12              5               5   \n",
       "4         No info  13302            1              3               4   \n",
       "\n",
       "   Duration_minutes  Dep_Time_hr  Dep_Time_mn  Arrival_Time_hr  \\\n",
       "0                50           22           20                1   \n",
       "1                25            5           50               13   \n",
       "2                 0            9           25                4   \n",
       "3                25           18            5               23   \n",
       "4                45           16           50               21   \n",
       "\n",
       "   Arrival_Time_mn  \n",
       "0               10  \n",
       "1               15  \n",
       "2               25  \n",
       "3               30  \n",
       "4               35  "
      ]
     },
     "execution_count": 23,
     "metadata": {},
     "output_type": "execute_result"
    }
   ],
   "source": [
    "#view the test dataframe\n",
    "ds.head()"
   ]
  },
  {
   "cell_type": "code",
   "execution_count": 26,
   "metadata": {},
   "outputs": [
    {
     "data": {
      "text/html": [
       "<div>\n",
       "<style scoped>\n",
       "    .dataframe tbody tr th:only-of-type {\n",
       "        vertical-align: middle;\n",
       "    }\n",
       "\n",
       "    .dataframe tbody tr th {\n",
       "        vertical-align: top;\n",
       "    }\n",
       "\n",
       "    .dataframe thead th {\n",
       "        text-align: right;\n",
       "    }\n",
       "</style>\n",
       "<table border=\"1\" class=\"dataframe\">\n",
       "  <thead>\n",
       "    <tr style=\"text-align: right;\">\n",
       "      <th></th>\n",
       "      <th>Airline</th>\n",
       "      <th>Source</th>\n",
       "      <th>Destination</th>\n",
       "      <th>Route</th>\n",
       "      <th>Total_Stops</th>\n",
       "      <th>Additional_Info</th>\n",
       "      <th>Price</th>\n",
       "      <th>Journey_Day</th>\n",
       "      <th>Journey_Month</th>\n",
       "      <th>Duration_hours</th>\n",
       "      <th>Duration_minutes</th>\n",
       "      <th>Dep_Time_hr</th>\n",
       "      <th>Dep_Time_mn</th>\n",
       "      <th>Arrival_Time_hr</th>\n",
       "      <th>Arrival_Time_mn</th>\n",
       "    </tr>\n",
       "  </thead>\n",
       "  <tbody>\n",
       "    <tr>\n",
       "      <td>0</td>\n",
       "      <td>3</td>\n",
       "      <td>0</td>\n",
       "      <td>5</td>\n",
       "      <td>18</td>\n",
       "      <td>4</td>\n",
       "      <td>8</td>\n",
       "      <td>3897</td>\n",
       "      <td>24</td>\n",
       "      <td>3</td>\n",
       "      <td>2</td>\n",
       "      <td>50</td>\n",
       "      <td>22</td>\n",
       "      <td>20</td>\n",
       "      <td>1</td>\n",
       "      <td>10</td>\n",
       "    </tr>\n",
       "    <tr>\n",
       "      <td>1</td>\n",
       "      <td>1</td>\n",
       "      <td>3</td>\n",
       "      <td>0</td>\n",
       "      <td>84</td>\n",
       "      <td>1</td>\n",
       "      <td>8</td>\n",
       "      <td>7662</td>\n",
       "      <td>1</td>\n",
       "      <td>5</td>\n",
       "      <td>7</td>\n",
       "      <td>25</td>\n",
       "      <td>5</td>\n",
       "      <td>50</td>\n",
       "      <td>13</td>\n",
       "      <td>15</td>\n",
       "    </tr>\n",
       "    <tr>\n",
       "      <td>2</td>\n",
       "      <td>4</td>\n",
       "      <td>2</td>\n",
       "      <td>1</td>\n",
       "      <td>118</td>\n",
       "      <td>1</td>\n",
       "      <td>8</td>\n",
       "      <td>13882</td>\n",
       "      <td>9</td>\n",
       "      <td>6</td>\n",
       "      <td>19</td>\n",
       "      <td>0</td>\n",
       "      <td>9</td>\n",
       "      <td>25</td>\n",
       "      <td>4</td>\n",
       "      <td>25</td>\n",
       "    </tr>\n",
       "    <tr>\n",
       "      <td>3</td>\n",
       "      <td>3</td>\n",
       "      <td>3</td>\n",
       "      <td>0</td>\n",
       "      <td>91</td>\n",
       "      <td>0</td>\n",
       "      <td>8</td>\n",
       "      <td>6218</td>\n",
       "      <td>12</td>\n",
       "      <td>5</td>\n",
       "      <td>5</td>\n",
       "      <td>25</td>\n",
       "      <td>18</td>\n",
       "      <td>5</td>\n",
       "      <td>23</td>\n",
       "      <td>30</td>\n",
       "    </tr>\n",
       "    <tr>\n",
       "      <td>4</td>\n",
       "      <td>3</td>\n",
       "      <td>0</td>\n",
       "      <td>5</td>\n",
       "      <td>29</td>\n",
       "      <td>0</td>\n",
       "      <td>8</td>\n",
       "      <td>13302</td>\n",
       "      <td>1</td>\n",
       "      <td>3</td>\n",
       "      <td>4</td>\n",
       "      <td>45</td>\n",
       "      <td>16</td>\n",
       "      <td>50</td>\n",
       "      <td>21</td>\n",
       "      <td>35</td>\n",
       "    </tr>\n",
       "  </tbody>\n",
       "</table>\n",
       "</div>"
      ],
      "text/plain": [
       "   Airline  Source  Destination  Route  Total_Stops  Additional_Info  Price  \\\n",
       "0        3       0            5     18            4                8   3897   \n",
       "1        1       3            0     84            1                8   7662   \n",
       "2        4       2            1    118            1                8  13882   \n",
       "3        3       3            0     91            0                8   6218   \n",
       "4        3       0            5     29            0                8  13302   \n",
       "\n",
       "   Journey_Day  Journey_Month  Duration_hours  Duration_minutes  Dep_Time_hr  \\\n",
       "0           24              3               2                50           22   \n",
       "1            1              5               7                25            5   \n",
       "2            9              6              19                 0            9   \n",
       "3           12              5               5                25           18   \n",
       "4            1              3               4                45           16   \n",
       "\n",
       "   Dep_Time_mn  Arrival_Time_hr  Arrival_Time_mn  \n",
       "0           20                1               10  \n",
       "1           50               13               15  \n",
       "2           25                4               25  \n",
       "3            5               23               30  \n",
       "4           50               21               35  "
      ]
     },
     "execution_count": 26,
     "metadata": {},
     "output_type": "execute_result"
    }
   ],
   "source": [
    "le=LabelEncoder()\n",
    "for i in ds.columns:\n",
    "    if ds[i].dtypes=='object':\n",
    "        ds[i]=le.fit_transform(ds[i])        \n",
    "ds.head()"
   ]
  },
  {
   "cell_type": "markdown",
   "metadata": {},
   "source": [
    "Label Encoder processing:\n",
    "\n",
    "We have used LabelEncoder to convert and process the columns object to int for desired target."
   ]
  },
  {
   "cell_type": "code",
   "execution_count": 27,
   "metadata": {},
   "outputs": [
    {
     "data": {
      "text/html": [
       "<div>\n",
       "<style scoped>\n",
       "    .dataframe tbody tr th:only-of-type {\n",
       "        vertical-align: middle;\n",
       "    }\n",
       "\n",
       "    .dataframe tbody tr th {\n",
       "        vertical-align: top;\n",
       "    }\n",
       "\n",
       "    .dataframe thead th {\n",
       "        text-align: right;\n",
       "    }\n",
       "</style>\n",
       "<table border=\"1\" class=\"dataframe\">\n",
       "  <thead>\n",
       "    <tr style=\"text-align: right;\">\n",
       "      <th></th>\n",
       "      <th>Airline</th>\n",
       "      <th>Source</th>\n",
       "      <th>Destination</th>\n",
       "      <th>Route</th>\n",
       "      <th>Total_Stops</th>\n",
       "      <th>Additional_Info</th>\n",
       "      <th>Journey_Day</th>\n",
       "      <th>Journey_Month</th>\n",
       "      <th>Duration_hours</th>\n",
       "      <th>Duration_minutes</th>\n",
       "      <th>Dep_Time_hr</th>\n",
       "      <th>Dep_Time_mn</th>\n",
       "      <th>Arrival_Time_hr</th>\n",
       "      <th>Arrival_Time_mn</th>\n",
       "    </tr>\n",
       "  </thead>\n",
       "  <tbody>\n",
       "    <tr>\n",
       "      <td>0</td>\n",
       "      <td>4</td>\n",
       "      <td>2</td>\n",
       "      <td>1</td>\n",
       "      <td>76</td>\n",
       "      <td>0</td>\n",
       "      <td>5</td>\n",
       "      <td>24</td>\n",
       "      <td>3</td>\n",
       "      <td>10</td>\n",
       "      <td>55</td>\n",
       "      <td>17</td>\n",
       "      <td>30</td>\n",
       "      <td>4</td>\n",
       "      <td>25</td>\n",
       "    </tr>\n",
       "    <tr>\n",
       "      <td>1</td>\n",
       "      <td>3</td>\n",
       "      <td>3</td>\n",
       "      <td>0</td>\n",
       "      <td>65</td>\n",
       "      <td>0</td>\n",
       "      <td>5</td>\n",
       "      <td>1</td>\n",
       "      <td>5</td>\n",
       "      <td>4</td>\n",
       "      <td>0</td>\n",
       "      <td>6</td>\n",
       "      <td>20</td>\n",
       "      <td>10</td>\n",
       "      <td>20</td>\n",
       "    </tr>\n",
       "    <tr>\n",
       "      <td>2</td>\n",
       "      <td>4</td>\n",
       "      <td>2</td>\n",
       "      <td>1</td>\n",
       "      <td>76</td>\n",
       "      <td>0</td>\n",
       "      <td>3</td>\n",
       "      <td>9</td>\n",
       "      <td>6</td>\n",
       "      <td>23</td>\n",
       "      <td>45</td>\n",
       "      <td>19</td>\n",
       "      <td>15</td>\n",
       "      <td>19</td>\n",
       "      <td>0</td>\n",
       "    </tr>\n",
       "    <tr>\n",
       "      <td>3</td>\n",
       "      <td>6</td>\n",
       "      <td>2</td>\n",
       "      <td>1</td>\n",
       "      <td>76</td>\n",
       "      <td>0</td>\n",
       "      <td>5</td>\n",
       "      <td>12</td>\n",
       "      <td>5</td>\n",
       "      <td>13</td>\n",
       "      <td>0</td>\n",
       "      <td>8</td>\n",
       "      <td>0</td>\n",
       "      <td>21</td>\n",
       "      <td>0</td>\n",
       "    </tr>\n",
       "    <tr>\n",
       "      <td>4</td>\n",
       "      <td>0</td>\n",
       "      <td>0</td>\n",
       "      <td>2</td>\n",
       "      <td>16</td>\n",
       "      <td>4</td>\n",
       "      <td>5</td>\n",
       "      <td>1</td>\n",
       "      <td>3</td>\n",
       "      <td>2</td>\n",
       "      <td>50</td>\n",
       "      <td>23</td>\n",
       "      <td>55</td>\n",
       "      <td>2</td>\n",
       "      <td>45</td>\n",
       "    </tr>\n",
       "  </tbody>\n",
       "</table>\n",
       "</div>"
      ],
      "text/plain": [
       "   Airline  Source  Destination  Route  Total_Stops  Additional_Info  \\\n",
       "0        4       2            1     76            0                5   \n",
       "1        3       3            0     65            0                5   \n",
       "2        4       2            1     76            0                3   \n",
       "3        6       2            1     76            0                5   \n",
       "4        0       0            2     16            4                5   \n",
       "\n",
       "   Journey_Day  Journey_Month  Duration_hours  Duration_minutes  Dep_Time_hr  \\\n",
       "0           24              3              10                55           17   \n",
       "1            1              5               4                 0            6   \n",
       "2            9              6              23                45           19   \n",
       "3           12              5              13                 0            8   \n",
       "4            1              3               2                50           23   \n",
       "\n",
       "   Dep_Time_mn  Arrival_Time_hr  Arrival_Time_mn  \n",
       "0           30                4               25  \n",
       "1           20               10               20  \n",
       "2           15               19                0  \n",
       "3            0               21                0  \n",
       "4           55                2               45  "
      ]
     },
     "execution_count": 27,
     "metadata": {},
     "output_type": "execute_result"
    }
   ],
   "source": [
    "for i in ds_test.columns:\n",
    "    if ds_test[i].dtypes=='object':\n",
    "        ds_test[i]=le.fit_transform(ds_test[i])\n",
    "ds_test.head()"
   ]
  },
  {
   "cell_type": "markdown",
   "metadata": {},
   "source": [
    "Label Encoder processing:\n",
    "\n",
    "We have used LabelEncoder to convert and process the columns object to int for test dataframe."
   ]
  },
  {
   "cell_type": "code",
   "execution_count": 28,
   "metadata": {},
   "outputs": [
    {
     "data": {
      "text/plain": [
       "<matplotlib.axes._subplots.AxesSubplot at 0x26cfc80e9c8>"
      ]
     },
     "execution_count": 28,
     "metadata": {},
     "output_type": "execute_result"
    },
    {
     "data": {
      "image/png": "[encoded data removed]",
      "text/plain": [
       "<Figure size 864x864 with 2 Axes>"
      ]
     },
     "metadata": {
      "needs_background": "light"
     },
     "output_type": "display_data"
    }
   ],
   "source": [
    "plt.figure(figsize=(12,12))\n",
    "sns.heatmap(ds.corr()>0.5,annot=True)"
   ]
  },
  {
   "cell_type": "markdown",
   "metadata": {},
   "source": [
    "As we checked correlation in heatmap and we found there are no correlated columns"
   ]
  },
  {
   "cell_type": "code",
   "execution_count": 29,
   "metadata": {},
   "outputs": [
    {
     "name": "stdout",
     "output_type": "stream",
     "text": [
      "(10682, 14)\n",
      "(10682,)\n"
     ]
    }
   ],
   "source": [
    "x=ds.drop(['Price'],axis=1)\n",
    "print(x.shape)\n",
    "y=ds['Price']\n",
    "print(y.shape)"
   ]
  },
  {
   "cell_type": "markdown",
   "metadata": {},
   "source": [
    "separate input and output data"
   ]
  },
  {
   "cell_type": "code",
   "execution_count": 30,
   "metadata": {},
   "outputs": [
    {
     "data": {
      "text/plain": [
       "array([[-0.41080484, -1.65835945,  2.41653414, ..., -0.2349499 ,\n",
       "        -1.80043628, -0.8900139 ],\n",
       "       [-1.26115217,  0.89001433, -0.97381203, ...,  1.36360731,\n",
       "        -0.05090913, -0.5870944 ],\n",
       "       [ 0.01436882,  0.04055641, -0.2957428 , ...,  0.0314763 ,\n",
       "        -1.3630545 ,  0.0187446 ],\n",
       "       ...,\n",
       "       [ 0.01436882, -1.65835945,  0.38232644, ..., -0.2349499 ,\n",
       "        -0.34249699, -0.2841749 ],\n",
       "       [ 2.56541078, -1.65835945,  2.41653414, ...,  0.2979025 ,\n",
       "         0.0948848 , -0.8900139 ],\n",
       "       [-1.26115217,  0.04055641, -0.2957428 , ...,  1.63003351,\n",
       "         0.82385444, -0.5870944 ]])"
      ]
     },
     "execution_count": 30,
     "metadata": {},
     "output_type": "execute_result"
    }
   ],
   "source": [
    "sc=StandardScaler()\n",
    "x=sc.fit_transform(x)\n",
    "x"
   ]
  },
  {
   "cell_type": "markdown",
   "metadata": {},
   "source": [
    "Scaleing input data"
   ]
  },
  {
   "cell_type": "code",
   "execution_count": 31,
   "metadata": {},
   "outputs": [],
   "source": [
    "def maxr2_score(rg,x,y):\n",
    "    max_r_score =0\n",
    "    for r_state in range(42,100):\n",
    "        x_train,x_test,y_train,y_test=train_test_split(x,y,random_state=r_state,test_size=0.20)\n",
    "        rg.fit(x_train,y_train)\n",
    "        pred=rg.predict(x_test)\n",
    "        r2_scr=r2_score(y_test,pred)\n",
    "        if r2_scr>max_r_score:\n",
    "            max_r_score=r2_scr\n",
    "            final_r_state=r_state\n",
    "    print('max r2 score corrasponding to ',final_r_state,'is',max_r_score)\n",
    "    return final_r_state"
   ]
  },
  {
   "cell_type": "markdown",
   "metadata": {},
   "source": [
    "Created function for finding the max r2 score value of model"
   ]
  },
  {
   "cell_type": "markdown",
   "metadata": {},
   "source": [
    "# Applying different algorithms to create model"
   ]
  },
  {
   "cell_type": "code",
   "execution_count": 32,
   "metadata": {},
   "outputs": [
    {
     "name": "stdout",
     "output_type": "stream",
     "text": [
      "max r2 score corrasponding to  98 is 0.4727070370958001\n",
      "Mean r2 score for linear Regression: 0.41986015794181364\n",
      "stander deviation in r2 score for linear Regression 0.010062408174361352\n"
     ]
    }
   ],
   "source": [
    "lg=LinearRegression()\n",
    "r_state=maxr2_score(lg,x,y)\n",
    "print('Mean r2 score for linear Regression:',cross_val_score(lg,x,y,cv=5,scoring='r2').mean())\n",
    "print('stander deviation in r2 score for linear Regression',cross_val_score(lg,x,y,cv=5,scoring='r2').std())"
   ]
  },
  {
   "cell_type": "code",
   "execution_count": 33,
   "metadata": {},
   "outputs": [
    {
     "data": {
      "text/plain": [
       "{'n_neighbors': 3}"
      ]
     },
     "execution_count": 33,
     "metadata": {},
     "output_type": "execute_result"
    }
   ],
   "source": [
    "neighbors={'n_neighbors':range(1,20)}\n",
    "knr=KNeighborsRegressor()\n",
    "gknr=GridSearchCV(knr,neighbors,cv=10)\n",
    "gknr.fit(x,y)\n",
    "gknr.best_params_"
   ]
  },
  {
   "cell_type": "code",
   "execution_count": 34,
   "metadata": {},
   "outputs": [
    {
     "name": "stdout",
     "output_type": "stream",
     "text": [
      "max r2 score corrasponding to  51 is 0.8293436662876341\n",
      "Mean r2 score for KNN Regression: 0.7765573286530539\n",
      "stander deviation r2 score for KNN Regression: 0.01348054709731673\n"
     ]
    }
   ],
   "source": [
    "knr=KNeighborsRegressor(n_neighbors=3)\n",
    "r_state=maxr2_score(knr,x,y)\n",
    "print('Mean r2 score for KNN Regression:',cross_val_score(knr,x,y,cv=5,scoring='r2').mean())\n",
    "print('stander deviation r2 score for KNN Regression:',cross_val_score(knr,x,y,cv=5,scoring='r2').std())"
   ]
  },
  {
   "cell_type": "code",
   "execution_count": 35,
   "metadata": {},
   "outputs": [
    {
     "data": {
      "text/plain": [
       "{'alpha': 1}"
      ]
     },
     "execution_count": 35,
     "metadata": {},
     "output_type": "execute_result"
    }
   ],
   "source": [
    "lsreg=Lasso()\n",
    "parameters={\"alpha\":[0.001,0.01,0.1,1]}\n",
    "clf=GridSearchCV(lsreg,parameters,cv=10)\n",
    "clf.fit(x,y)\n",
    "clf.best_params_"
   ]
  },
  {
   "cell_type": "code",
   "execution_count": 36,
   "metadata": {},
   "outputs": [
    {
     "name": "stdout",
     "output_type": "stream",
     "text": [
      "max r2 score corrasponding to  98 is 0.47269646126410025\n",
      "Mean r2 score for Lasso Regression 0.4198647612636721\n",
      "stander deviation in r2 score for Lasso Regression 0.01003735996560916\n"
     ]
    }
   ],
   "source": [
    "lsreg=Lasso(alpha=1)\n",
    "r_state=maxr2_score(lsreg,x,y)\n",
    "print('Mean r2 score for Lasso Regression',cross_val_score(lsreg,x,y,cv=5,scoring='r2').mean())\n",
    "print('stander deviation in r2 score for Lasso Regression',cross_val_score(lsreg,x,y,cv=5,scoring='r2').std())"
   ]
  },
  {
   "cell_type": "code",
   "execution_count": 37,
   "metadata": {},
   "outputs": [
    {
     "name": "stdout",
     "output_type": "stream",
     "text": [
      "max r2 score corrasponding to  75 is 0.8567757567785954\n",
      "Mean r2 score for ada Boosting Regration: 0.8225460000400451\n",
      "Mean r2 score for ada Boosting Regration: 0.008233623288539842\n"
     ]
    }
   ],
   "source": [
    "gb=GradientBoostingRegressor()\n",
    "r_state=maxr2_score(gb,x,y)\n",
    "print('Mean r2 score for ada Boosting Regration:',cross_val_score(gb,x,y,cv=5,scoring='r2').mean())\n",
    "print('Mean r2 score for ada Boosting Regration:',cross_val_score(gb,x,y,cv=5,scoring='r2').std())"
   ]
  },
  {
   "cell_type": "code",
   "execution_count": 38,
   "metadata": {},
   "outputs": [
    {
     "data": {
      "text/plain": [
       "{'base_estimator': DecisionTreeRegressor(criterion='mse', max_depth=None, max_features=None,\n",
       "                       max_leaf_nodes=None, min_impurity_decrease=0.0,\n",
       "                       min_impurity_split=None, min_samples_leaf=1,\n",
       "                       min_samples_split=2, min_weight_fraction_leaf=0.0,\n",
       "                       presort=False, random_state=None, splitter='best'),\n",
       " 'learning_rate': 0.1,\n",
       " 'n_estimators': 1000}"
      ]
     },
     "execution_count": 38,
     "metadata": {},
     "output_type": "execute_result"
    }
   ],
   "source": [
    "ada_reg =AdaBoostRegressor()\n",
    "parameters={\"learning_rate\":[0.001,0.01,0.1,1],\"n_estimators\":[10,100,500,1000],\"base_estimator\":[lg,lsreg,DecisionTreeRegressor()]}\n",
    "clf=GridSearchCV(ada_reg,parameters,cv=5)\n",
    "clf.fit(x,y)\n",
    "clf.best_params_"
   ]
  },
  {
   "cell_type": "code",
   "execution_count": 39,
   "metadata": {},
   "outputs": [
    {
     "name": "stdout",
     "output_type": "stream",
     "text": [
      "max r2 score corrasponding to  51 is 0.9263835991003859\n",
      "Mean r2 score for ada Boosting Regration: 0.8882429750958429\n",
      "Mean r2 score for ada Boosting Regration: 0.016015749406070694\n"
     ]
    }
   ],
   "source": [
    "ada_reg=AdaBoostRegressor(base_estimator=DecisionTreeRegressor(),learning_rate=0.1,n_estimators=1000)\n",
    "r_state=maxr2_score(ada_reg,x,y)\n",
    "print('Mean r2 score for ada Boosting Regration:',cross_val_score(ada_reg,x,y,cv=5,scoring='r2').mean())\n",
    "print('Mean r2 score for ada Boosting Regration:',cross_val_score(ada_reg,x,y,cv=5,scoring='r2').std())"
   ]
  },
  {
   "cell_type": "code",
   "execution_count": 43,
   "metadata": {},
   "outputs": [
    {
     "name": "stdout",
     "output_type": "stream",
     "text": [
      "RMSE is:  1183.549770162778\n",
      "MAE is:  600.1379811347476\n",
      "r2_score is: 0.9252764338593555\n",
      "cross val score Mean: 0.8893054510088577\n",
      "cross val score STD: 0.015623142411261873\n",
      "\n",
      "\n",
      "[11038. 14053.  7664. ...  9646.  4804.  5406.]\n",
      "8153     10703\n",
      "2784     14053\n",
      "10371     7480\n",
      "9014      4049\n",
      "8200     11841\n",
      "         ...  \n",
      "5816      8854\n",
      "3868     14151\n",
      "9103      9646\n",
      "3296      4804\n",
      "6213      4757\n",
      "Name: Price, Length: 2137, dtype: int64\n"
     ]
    }
   ],
   "source": [
    "x_train,x_test,y_train,y_test=train_test_split(x,y,random_state=51,test_size=0.20)\n",
    "ada_reg.fit(x_train,y_train)\n",
    "ada_pred=ada_xreg.predict(x_test)\n",
    "print('RMSE is: ',np.sqrt(mean_squared_error(y_test,ada_pred)))\n",
    "print('MAE is: ',mean_absolute_error(y_test,ada_pred))\n",
    "print('r2_score is:',r2_score(y_test,ada_pred))\n",
    "print('cross val score Mean:',cross_val_score(ada_reg,x,y,cv=5,scoring='r2').mean())\n",
    "print('cross val score STD:',cross_val_score(ada_reg,x,y,cv=5,scoring='r2').std())\n",
    "print('\\n')\n",
    "print(ada_pred)\n",
    "print(y_test)"
   ]
  },
  {
   "cell_type": "markdown",
   "metadata": {},
   "source": [
    "AdaBoostRegressor model learning rate is better than other models."
   ]
  },
  {
   "cell_type": "code",
   "execution_count": 44,
   "metadata": {},
   "outputs": [
    {
     "data": {
      "text/plain": [
       "<matplotlib.collections.PathCollection at 0x26c98cec648>"
      ]
     },
     "execution_count": 44,
     "metadata": {},
     "output_type": "execute_result"
    },
    {
     "data": {
      "image/png": "[encoded data removed]",
      "text/plain": [
       "<Figure size 432x288 with 1 Axes>"
      ]
     },
     "metadata": {
      "needs_background": "light"
     },
     "output_type": "display_data"
    }
   ],
   "source": [
    "plt.scatter(ada_pred,y_test)"
   ]
  },
  {
   "cell_type": "markdown",
   "metadata": {},
   "source": [
    "We have used scatter plot to analyse the test target data and predicted data comparatively."
   ]
  },
  {
   "cell_type": "code",
   "execution_count": 45,
   "metadata": {},
   "outputs": [
    {
     "name": "stdout",
     "output_type": "stream",
     "text": [
      "[16079. 16079. 15629. ... 16079. 16079. 16079.]\n"
     ]
    }
   ],
   "source": [
    "pred_data=ada_reg.predict(ds_test)\n",
    "print(pred_data)"
   ]
  },
  {
   "cell_type": "markdown",
   "metadata": {},
   "source": [
    "Now we are testing the model with given test data."
   ]
  },
  {
   "cell_type": "code",
   "execution_count": 46,
   "metadata": {},
   "outputs": [
    {
     "data": {
      "text/html": [
       "<div>\n",
       "<style scoped>\n",
       "    .dataframe tbody tr th:only-of-type {\n",
       "        vertical-align: middle;\n",
       "    }\n",
       "\n",
       "    .dataframe tbody tr th {\n",
       "        vertical-align: top;\n",
       "    }\n",
       "\n",
       "    .dataframe thead th {\n",
       "        text-align: right;\n",
       "    }\n",
       "</style>\n",
       "<table border=\"1\" class=\"dataframe\">\n",
       "  <thead>\n",
       "    <tr style=\"text-align: right;\">\n",
       "      <th></th>\n",
       "      <th>0</th>\n",
       "    </tr>\n",
       "  </thead>\n",
       "  <tbody>\n",
       "    <tr>\n",
       "      <td>2666</td>\n",
       "      <td>16294.0</td>\n",
       "    </tr>\n",
       "    <tr>\n",
       "      <td>2667</td>\n",
       "      <td>15129.0</td>\n",
       "    </tr>\n",
       "    <tr>\n",
       "      <td>2668</td>\n",
       "      <td>16079.0</td>\n",
       "    </tr>\n",
       "    <tr>\n",
       "      <td>2669</td>\n",
       "      <td>16079.0</td>\n",
       "    </tr>\n",
       "    <tr>\n",
       "      <td>2670</td>\n",
       "      <td>16079.0</td>\n",
       "    </tr>\n",
       "  </tbody>\n",
       "</table>\n",
       "</div>"
      ],
      "text/plain": [
       "            0\n",
       "2666  16294.0\n",
       "2667  15129.0\n",
       "2668  16079.0\n",
       "2669  16079.0\n",
       "2670  16079.0"
      ]
     },
     "execution_count": 46,
     "metadata": {},
     "output_type": "execute_result"
    }
   ],
   "source": [
    "pred_data=pd.DataFrame(pred_data)\n",
    "pred_data.tail()"
   ]
  },
  {
   "cell_type": "code",
   "execution_count": 47,
   "metadata": {},
   "outputs": [
    {
     "data": {
      "text/plain": [
       "['flightIticket_ada.obj']"
      ]
     },
     "execution_count": 47,
     "metadata": {},
     "output_type": "execute_result"
    }
   ],
   "source": [
    "#saving model\n",
    "joblib.dump(ada_reg,'flightIticket_ada.obj')"
   ]
  },
  {
   "cell_type": "code",
   "execution_count": 48,
   "metadata": {},
   "outputs": [],
   "source": [
    "#Saving the CSV for predictive data\n",
    "pred_data.to_csv('Flight_Ticket.csv')"
   ]
  },
  {
   "cell_type": "markdown",
   "metadata": {},
   "source": [
    "# Conclusion:"
   ]
  },
  {
   "cell_type": "markdown",
   "metadata": {},
   "source": [
    "Depending upon the different features that were used as the inputs to the machine learning to predict the Flight ticket prices.We have used the EDA process to find out the correlated columns, data processing and data manipulation. And later we have used the different algorithms like linear regression, KNeighborsRegressor, LASSO ,AdaBoostRegressor,GradientBoostingRegressor. Further, we have used the GridSearchCV parameter to get the best result for the algorithm. "
   ]
  },
  {
   "cell_type": "markdown",
   "metadata": {},
   "source": [
    "After using all the above approaches we have concluded that AdaBoostRegressor provides the highest level of accuracy for machine learning i.e., approx... 92% regarding the Flight prices prediction."
   ]
  },
  {
   "cell_type": "code",
   "execution_count": null,
   "metadata": {},
   "outputs": [],
   "source": []
  }
 ],
 "metadata": {
  "kernelspec": {
   "display_name": "Python 3",
   "language": "python",
   "name": "python3"
  },
  "language_info": {
   "codemirror_mode": {
    "name": "ipython",
    "version": 3
   },
   "file_extension": ".py",
   "mimetype": "text/x-python",
   "name": "python",
   "nbconvert_exporter": "python",
   "pygments_lexer": "ipython3",
   "version": "3.7.4"
  }
 },
 "nbformat": 4,
 "nbformat_minor": 2
}
